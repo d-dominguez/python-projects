{
 "cells": [
  {
   "cell_type": "code",
   "execution_count": null,
   "metadata": {
    "collapsed": true
   },
   "outputs": [],
   "source": [
    "def get_spreadsheet(key, gid=0):\n",
    "  gd_client = gdata.docs.service.DocsService()\n",
    "  gd_client.email = 'xxxxxxxxx@gmail.com'\n",
    "  gd_client.password = getpass.getpass()\n",
    "  gd_client.ssl = False\n",
    "  gd_client.source = \"My Fancy Spreadsheet Downloader\"\n",
    "  gd_client.ProgrammaticLogin()\n",
    "\n",
    "  file_path = tempfile.mktemp(suffix='.csv')\n",
    "  uri = 'http://docs.google.com/feeds/documents/private/full/%s' % key\n",
    "  try:\n",
    "    entry = gd_client.GetDocumentListEntry(uri)\n",
    "\n",
    "    # XXXX - The following dies with RequestError \"Unauthorized\"\n",
    "    gd_client.Download(entry, file_path)\n",
    "\n",
    "    return get_csv(file_path)\n",
    "  finally:\n",
    "    try:\n",
    "      os.remove(file_path)\n",
    "    except OSError:\n",
    "      pass"
   ]
  },
  {
   "cell_type": "code",
   "execution_count": 33,
   "metadata": {
    "collapsed": true
   },
   "outputs": [],
   "source": [
    "import matplotlib.pyplot as plt\n",
    "import pandas as pd\n",
    "import numpy as np\n",
    "import gdata.docs.service as gdocs\n",
    "import getpass as gp\n",
    "import os\n",
    "import tempfile as tf"
   ]
  },
  {
   "cell_type": "code",
   "execution_count": 34,
   "metadata": {},
   "outputs": [],
   "source": [
    "# Import dataset\n",
    "data = pd.read_csv('/home/ddomin2363/Documents/datasets/loan.csv', low_memory=False)"
   ]
  },
  {
   "cell_type": "code",
   "execution_count": null,
   "metadata": {},
   "outputs": [],
   "source": [
    "# Get column headers\n",
    "list(data)"
   ]
  },
  {
   "cell_type": "code",
   "execution_count": null,
   "metadata": {},
   "outputs": [],
   "source": [
    "data.loan_status.unique()"
   ]
  },
  {
   "cell_type": "code",
   "execution_count": null,
   "metadata": {
    "collapsed": true
   },
   "outputs": [],
   "source": [
    "def loan_status (row):\n",
    "    if row['loan_status'] in ['Fully Paid','Does not meet the credit policy. Status:Fully Paid'] :\n",
    "        return 0\n",
    "    if row['loan_status'] in ['Charged Off', 'Default', 'Late (31-120 days)', 'Does not meet the credit policy. Status:Charged Off'] :\n",
    "        return 1\n",
    "    return 'Other'"
   ]
  },
  {
   "cell_type": "code",
   "execution_count": null,
   "metadata": {},
   "outputs": [],
   "source": [
    "data['loan_status'] = data.apply(lambda row: loan_status (row),axis=1)"
   ]
  },
  {
   "cell_type": "code",
   "execution_count": null,
   "metadata": {},
   "outputs": [],
   "source": [
    "data.loan_status"
   ]
  },
  {
   "cell_type": "code",
   "execution_count": null,
   "metadata": {},
   "outputs": [],
   "source": [
    "data = data.drop(data[data.loan_status == 'Other'].index)\n",
    "data.loan_status"
   ]
  },
  {
   "cell_type": "code",
   "execution_count": null,
   "metadata": {
    "collapsed": true
   },
   "outputs": [],
   "source": [
    "df = pd.DataFrame(np.random.randn(100, 2))\n",
    "msk = np.random.rand(len(df)) < 0.8\n",
    "train = df[msk]\n",
    "test = df[~msk]"
   ]
  },
  {
   "cell_type": "code",
   "execution_count": null,
   "metadata": {},
   "outputs": [],
   "source": [
    "train"
   ]
  },
  {
   "cell_type": "code",
   "execution_count": null,
   "metadata": {},
   "outputs": [],
   "source": []
  },
  {
   "cell_type": "code",
   "execution_count": null,
   "metadata": {
    "collapsed": true
   },
   "outputs": [],
   "source": []
  },
  {
   "cell_type": "code",
   "execution_count": null,
   "metadata": {
    "collapsed": true
   },
   "outputs": [],
   "source": []
  },
  {
   "cell_type": "code",
   "execution_count": null,
   "metadata": {
    "collapsed": true
   },
   "outputs": [],
   "source": []
  }
 ],
 "metadata": {
  "kernelspec": {
   "display_name": "Python 3",
   "language": "python",
   "name": "python3"
  },
  "language_info": {
   "codemirror_mode": {
    "name": "ipython",
    "version": 3
   },
   "file_extension": ".py",
   "mimetype": "text/x-python",
   "name": "python",
   "nbconvert_exporter": "python",
   "pygments_lexer": "ipython3",
   "version": "3.6.1"
  }
 },
 "nbformat": 4,
 "nbformat_minor": 2
}
